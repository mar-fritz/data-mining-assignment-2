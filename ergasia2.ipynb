{
 "cells": [
  {
   "cell_type": "markdown",
   "metadata": {
    "collapsed": true,
    "pycharm": {
     "name": "#%% md\n"
    }
   },
   "source": [
    "# Εργασία 2 (Τεχνικές Εξόρυξης Δεδομένων)\n",
    "## Data Mining: Assignment 2\n",
    "***\n",
    "### Μαρία Φριτζελά 1115201400218\n",
    "***"
   ]
  },
  {
   "cell_type": "code",
   "execution_count": 1,
   "metadata": {
    "pycharm": {
     "name": "#%%\n"
    }
   },
   "outputs": [],
   "source": [
    "import glob\n",
    "import csv\n",
    "import pandas as pd"
   ]
  },
  {
   "cell_type": "markdown",
   "metadata": {},
   "source": [
    "Κατηγοριοποίηση δεδομένων κειμένου από ειδησιογραφικά άρθρα 5 κατηγοριών:</br>\n",
    "Classifying text data from articles of 5 different categories:"
   ]
  },
  {
   "cell_type": "code",
   "execution_count": 2,
   "metadata": {
    "pycharm": {
     "name": "#%%\n"
    }
   },
   "outputs": [],
   "source": [
    "categories = ['business', 'entertainment', 'politics', 'sport', 'tech']"
   ]
  },
  {
   "cell_type": "markdown",
   "metadata": {
    "pycharm": {
     "name": "#%% md\n"
    }
   },
   "source": [
    "### Get names of files for testing and training\n",
    "Data set consists of 2225 documents from a news website\n",
    "corresponding to stories in five topical areas from 2004-2005.</br>\n",
    "</br>\n",
    "80% of data points (files) will be used for training, the remaining 20% will be used for testing.</br>\n",
    "We will be collecting the files names as elements in two lists (one for each purpose)"
   ]
  },
  {
   "cell_type": "code",
   "execution_count": 3,
   "metadata": {
    "pycharm": {
     "name": "#%%\n"
    }
   },
   "outputs": [],
   "source": [
    "files_path = 'fulltext/data/'\n",
    "train_files = []    # list of files names that will be used for training\n",
    "test_files = []     # list of files names that will be used for testing\n",
    "\n",
    "for category in categories:\n",
    "    # get all txt files names from current category\n",
    "    files = glob.glob(files_path+category+'/*.txt')\n",
    "    # sort them alphabetically\n",
    "    files.sort()\n",
    "    # separate list so that first 80% will be copied into the train_files list\n",
    "    sep_index = round(len(files) * 0.8)\n",
    "    train_files.extend(files[:sep_index])\n",
    "    test_files.extend(files[sep_index:])"
   ]
  },
  {
   "cell_type": "markdown",
   "metadata": {},
   "source": [
    "Result:"
   ]
  },
  {
   "cell_type": "code",
   "execution_count": 4,
   "metadata": {
    "pycharm": {
     "name": "#%%\n"
    }
   },
   "outputs": [
    {
     "name": "stdout",
     "output_type": "stream",
     "text": [
      "Total files: 2225\n",
      "# of train files: 1781\n",
      "# of test files: 444\n"
     ]
    }
   ],
   "source": [
    "print(\"Total files: 2225\")\n",
    "print(\"# of train files: \"+str(len(train_files)))\n",
    "print(\"# of test files: \"+str(len(test_files)))"
   ]
  },
  {
   "cell_type": "markdown",
   "metadata": {
    "pycharm": {
     "name": "#%% md\n"
    }
   },
   "source": [
    "### Create file train_set.tsv"
   ]
  },
  {
   "cell_type": "code",
   "execution_count": 5,
   "metadata": {
    "pycharm": {
     "name": "#%%\n"
    }
   },
   "outputs": [
    {
     "name": "stdout",
     "output_type": "stream",
     "text": [
      "UnicodeDecodeError for file: fulltext/data/sport/199.txt. File skipped\n"
     ]
    }
   ],
   "source": [
    "with open('train_set.tsv', 'wt') as out_file:\n",
    "    tsv_writer = csv.writer(out_file, delimiter='\\t')\n",
    "    # write header row\n",
    "    tsv_writer.writerow(['id', 'title', 'content', 'category'])\n",
    "    # write rows for all other files\n",
    "    for file_path in train_files:\n",
    "        with open(file_path) as f:\n",
    "            # read all lines of file split them in a list removing '\\n'\n",
    "            # iterate through elements in list removing empty ones (empty strings are False)\n",
    "            try:\n",
    "                content = [line for line in f.read().splitlines() if line.strip()]\n",
    "                # We use the fact that all file paths have the same form to extract the information we need\n",
    "                _, _, cat, name, _ = file_path.replace('.', '/').split('/')\n",
    "                # Write row\n",
    "                tsv_writer.writerow([cat[0]+name,\n",
    "                                 content.pop(0),\n",
    "                                 \" \".join(content),\n",
    "                                 cat])\n",
    "            except UnicodeDecodeError:\n",
    "                print(\"UnicodeDecodeError for file: \"+file_path+\". File skipped\")\n"
   ]
  },
  {
   "cell_type": "markdown",
   "metadata": {
    "pycharm": {
     "name": "#%% md\n"
    }
   },
   "source": [
    "### Create file test_set.tsv"
   ]
  },
  {
   "cell_type": "code",
   "execution_count": 6,
   "metadata": {
    "pycharm": {
     "name": "#%%\n"
    }
   },
   "outputs": [],
   "source": [
    "with open('test_set.tsv', 'wt') as out_file:\n",
    "    tsv_writer = csv.writer(out_file, delimiter='\\t')\n",
    "    # write header row\n",
    "    tsv_writer.writerow(['id', 'title', 'content'])\n",
    "    # write rows for all other files\n",
    "    for file_path in test_files:\n",
    "        with open(file_path) as f:\n",
    "            # read all lines of file split them in a list removing '\\n'\n",
    "            # iterate through elements in list removing empty ones (empty strings are False)\n",
    "            try:\n",
    "                content = [line for line in f.read().splitlines() if line.strip()]\n",
    "                # We use the fact that all file paths have the same form to extract the information we need\n",
    "                _, _, cat, name, _ = file_path.replace('.', '/').split('/')\n",
    "                # Write row\n",
    "                tsv_writer.writerow([cat[0]+name,\n",
    "                                 content.pop(0),\n",
    "                                 \" \".join(content)])\n",
    "            except UnicodeDecodeError:\n",
    "                print(\"UnicodeDecodeError for file: \"+file_path+\". File skipped\")"
   ]
  },
  {
   "cell_type": "code",
   "execution_count": 8,
   "metadata": {},
   "outputs": [
    {
     "data": {
      "text/plain": "                                  title  \\\nid                                        \nb409    UK bank seals South Korean deal   \nb410  DaimlerChrysler's 2004 sales rise   \nb411   Tsunami cost hits Jakarta shares   \nb412  Iran budget seeks state sell-offs   \nb413   EC calls truce in deficit battle   \n...                                 ...   \nt397   BT program to beat dialler scams   \nt398    Spam e-mails tempt net shoppers   \nt399            Be careful how you code   \nt400    US cyber security chief resigns   \nt401   Losing yourself in online gaming   \n\n                                                content  \nid                                                       \nb409  UK-based bank Standard Chartered said it would...  \nb410  US-German carmaker DaimlerChrysler has sold 2....  \nb411  The stock market in Jakarta has seen its bigge...  \nb412  Iran's president, Mohammad Khatami, has unveil...  \nb413  The European Commission (EC) has called a truc...  \n...                                                 ...  \nt397  BT is introducing two initiatives to help beat...  \nt398  Computer users across the world continue to ig...  \nt399  A new European directive could put software wr...  \nt400  The man making sure US computer networks are s...  \nt401  Online role playing games are time-consuming, ...  \n\n[444 rows x 2 columns]",
      "text/html": "<div>\n<style scoped>\n    .dataframe tbody tr th:only-of-type {\n        vertical-align: middle;\n    }\n\n    .dataframe tbody tr th {\n        vertical-align: top;\n    }\n\n    .dataframe thead th {\n        text-align: right;\n    }\n</style>\n<table border=\"1\" class=\"dataframe\">\n  <thead>\n    <tr style=\"text-align: right;\">\n      <th></th>\n      <th>title</th>\n      <th>content</th>\n    </tr>\n    <tr>\n      <th>id</th>\n      <th></th>\n      <th></th>\n    </tr>\n  </thead>\n  <tbody>\n    <tr>\n      <th>b409</th>\n      <td>UK bank seals South Korean deal</td>\n      <td>UK-based bank Standard Chartered said it would...</td>\n    </tr>\n    <tr>\n      <th>b410</th>\n      <td>DaimlerChrysler's 2004 sales rise</td>\n      <td>US-German carmaker DaimlerChrysler has sold 2....</td>\n    </tr>\n    <tr>\n      <th>b411</th>\n      <td>Tsunami cost hits Jakarta shares</td>\n      <td>The stock market in Jakarta has seen its bigge...</td>\n    </tr>\n    <tr>\n      <th>b412</th>\n      <td>Iran budget seeks state sell-offs</td>\n      <td>Iran's president, Mohammad Khatami, has unveil...</td>\n    </tr>\n    <tr>\n      <th>b413</th>\n      <td>EC calls truce in deficit battle</td>\n      <td>The European Commission (EC) has called a truc...</td>\n    </tr>\n    <tr>\n      <th>...</th>\n      <td>...</td>\n      <td>...</td>\n    </tr>\n    <tr>\n      <th>t397</th>\n      <td>BT program to beat dialler scams</td>\n      <td>BT is introducing two initiatives to help beat...</td>\n    </tr>\n    <tr>\n      <th>t398</th>\n      <td>Spam e-mails tempt net shoppers</td>\n      <td>Computer users across the world continue to ig...</td>\n    </tr>\n    <tr>\n      <th>t399</th>\n      <td>Be careful how you code</td>\n      <td>A new European directive could put software wr...</td>\n    </tr>\n    <tr>\n      <th>t400</th>\n      <td>US cyber security chief resigns</td>\n      <td>The man making sure US computer networks are s...</td>\n    </tr>\n    <tr>\n      <th>t401</th>\n      <td>Losing yourself in online gaming</td>\n      <td>Online role playing games are time-consuming, ...</td>\n    </tr>\n  </tbody>\n</table>\n<p>444 rows × 2 columns</p>\n</div>"
     },
     "execution_count": 8,
     "metadata": {},
     "output_type": "execute_result"
    }
   ],
   "source": [
    "pd.read_csv(\"test_set.tsv\", sep='\\t', index_col='id')"
   ]
  }
 ],
 "metadata": {
  "kernelspec": {
   "display_name": "Python 3",
   "language": "python",
   "name": "python3"
  },
  "language_info": {
   "codemirror_mode": {
    "name": "ipython",
    "version": 3
   },
   "file_extension": ".py",
   "mimetype": "text/x-python",
   "name": "python",
   "nbconvert_exporter": "python",
   "pygments_lexer": "ipython3",
   "version": "3.6.9"
  }
 },
 "nbformat": 4,
 "nbformat_minor": 1
}